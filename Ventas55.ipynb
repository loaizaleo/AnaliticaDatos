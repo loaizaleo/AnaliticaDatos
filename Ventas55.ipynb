{
 "cells": [
  {
   "cell_type": "markdown",
   "id": "c0975fc0-d7c3-491b-8fef-d994c9a3b240",
   "metadata": {},
   "source": [
    "# Proyecto para procesar archivo de texto txt que contiene ventas diarias de un establecimiento comercial"
   ]
  },
  {
   "cell_type": "markdown",
   "id": "1e996e9e-cbd5-4fbc-bf58-229f7d566cc3",
   "metadata": {},
   "source": [
    "## Descripción"
   ]
  },
  {
   "cell_type": "markdown",
   "id": "287c2ab5-5520-4097-9c6d-e3dbd9b9b5f5",
   "metadata": {},
   "source": [
    "- Todo el proyecto se guarda en una carpeta llamada Ventas55 en el siguiente path: C:\\Users\\hp\\Documents\\Ingenieria_Analítica_Datos_UM\\miniconda\\Ventas55\n",
    "- La información se descarga a un archivo de texto de prueba con el nombre dato01.txt. Este archivo solo contendrá 100 lineas de las 5725 lineas que constituyen el archivo original.\n",
    "- Probando las librerías numpy y pandas, se encuentra mayor facilidad para manipular este archivo con el package PANDAS<br>\n",
    "<center>\n",
    "<img width=\"200\" height=\"100\" src=\"pandas_logo.jpg\">\n",
    "</center>\n",
    "- El archivo en estado raw debe limpiarse un poco usando la herramienta \"reemplazo rápido\" de VS Code. Por ejemplo el archivo no puede contener el símbolo \"#\" porque esto significa comentarios en python. el simbolo \"a. m.\" y \"p. m.\" se quitan para evitar columnas innecesarias cuando se convierta a data frame en pandas.\n",
    "- La primer línea del archivo debe contener la máxima información para que el número de columnas sea el apropiado."
   ]
  },
  {
   "cell_type": "markdown",
   "id": "fcce5fed-9537-4572-8dff-c8f9063d7d29",
   "metadata": {},
   "source": [
    "## Carga de archivo y conversión a dataframe"
   ]
  },
  {
   "cell_type": "code",
   "execution_count": 1,
   "id": "56c88ea1-f99f-4a1f-8bca-22625f68a5a3",
   "metadata": {},
   "outputs": [],
   "source": [
    "import pandas as pd"
   ]
  },
  {
   "cell_type": "code",
   "execution_count": 45,
   "id": "2d51fe02-c30f-4595-ad4f-b7c67b5f69ab",
   "metadata": {},
   "outputs": [],
   "source": [
    "df = pd.read_csv(\"datos01.txt\", sep=r'\\s+' ,on_bad_lines='skip')\n",
    "df.columns = ['col0', 'col1', 'col2', 'col3','col4','col5','col6','col7']"
   ]
  },
  {
   "cell_type": "code",
   "execution_count": 46,
   "id": "f31df880-7bc2-4f1c-82bf-571fcc38f03e",
   "metadata": {},
   "outputs": [
    {
     "data": {
      "text/html": [
       "<div>\n",
       "<style scoped>\n",
       "    .dataframe tbody tr th:only-of-type {\n",
       "        vertical-align: middle;\n",
       "    }\n",
       "\n",
       "    .dataframe tbody tr th {\n",
       "        vertical-align: top;\n",
       "    }\n",
       "\n",
       "    .dataframe thead th {\n",
       "        text-align: right;\n",
       "    }\n",
       "</style>\n",
       "<table border=\"1\" class=\"dataframe\">\n",
       "  <thead>\n",
       "    <tr style=\"text-align: right;\">\n",
       "      <th></th>\n",
       "      <th>col0</th>\n",
       "      <th>col1</th>\n",
       "      <th>col2</th>\n",
       "      <th>col3</th>\n",
       "      <th>col4</th>\n",
       "      <th>col5</th>\n",
       "      <th>col6</th>\n",
       "      <th>col7</th>\n",
       "    </tr>\n",
       "  </thead>\n",
       "  <tbody>\n",
       "    <tr>\n",
       "      <th>0</th>\n",
       "      <td>29/3/2025,</td>\n",
       "      <td>10:33 am</td>\n",
       "      <td>-</td>\n",
       "      <td>Lleny</td>\n",
       "      <td>Rodriguez:</td>\n",
       "      <td>120</td>\n",
       "      <td>NaN</td>\n",
       "      <td>NaN</td>\n",
       "    </tr>\n",
       "    <tr>\n",
       "      <th>1</th>\n",
       "      <td>29/3/2025,</td>\n",
       "      <td>12:00 pm</td>\n",
       "      <td>-</td>\n",
       "      <td>Lleny</td>\n",
       "      <td>Rodriguez:</td>\n",
       "      <td>‎IMG-20250329-WA0022.jpg</td>\n",
       "      <td>(archivo</td>\n",
       "      <td>adjunto)</td>\n",
       "    </tr>\n",
       "    <tr>\n",
       "      <th>2</th>\n",
       "      <td>2750</td>\n",
       "      <td>NaN</td>\n",
       "      <td>NaN</td>\n",
       "      <td>NaN</td>\n",
       "      <td>NaN</td>\n",
       "      <td>NaN</td>\n",
       "      <td>NaN</td>\n",
       "      <td>NaN</td>\n",
       "    </tr>\n",
       "    <tr>\n",
       "      <th>3</th>\n",
       "      <td>29/3/2025,</td>\n",
       "      <td>12:06 pm</td>\n",
       "      <td>-</td>\n",
       "      <td>Lleny</td>\n",
       "      <td>Rodriguez:</td>\n",
       "      <td>‎IMG-20250329-WA0024.jpg</td>\n",
       "      <td>(archivo</td>\n",
       "      <td>adjunto)</td>\n",
       "    </tr>\n",
       "    <tr>\n",
       "      <th>4</th>\n",
       "      <td>$</td>\n",
       "      <td>120</td>\n",
       "      <td>NaN</td>\n",
       "      <td>NaN</td>\n",
       "      <td>NaN</td>\n",
       "      <td>NaN</td>\n",
       "      <td>NaN</td>\n",
       "      <td>NaN</td>\n",
       "    </tr>\n",
       "    <tr>\n",
       "      <th>...</th>\n",
       "      <td>...</td>\n",
       "      <td>...</td>\n",
       "      <td>...</td>\n",
       "      <td>...</td>\n",
       "      <td>...</td>\n",
       "      <td>...</td>\n",
       "      <td>...</td>\n",
       "      <td>...</td>\n",
       "    </tr>\n",
       "    <tr>\n",
       "      <th>92</th>\n",
       "      <td>240</td>\n",
       "      <td>42</td>\n",
       "      <td>36</td>\n",
       "      <td>NaN</td>\n",
       "      <td>NaN</td>\n",
       "      <td>NaN</td>\n",
       "      <td>NaN</td>\n",
       "      <td>NaN</td>\n",
       "    </tr>\n",
       "    <tr>\n",
       "      <th>93</th>\n",
       "      <td>2/4/2025,</td>\n",
       "      <td>1:38 pm</td>\n",
       "      <td>-</td>\n",
       "      <td>Lleny</td>\n",
       "      <td>Rodriguez:</td>\n",
       "      <td>‎IMG-20250402-WA0013.jpg</td>\n",
       "      <td>(archivo</td>\n",
       "      <td>adjunto)</td>\n",
       "    </tr>\n",
       "    <tr>\n",
       "      <th>94</th>\n",
       "      <td>2/4/2025,</td>\n",
       "      <td>1:38 pm</td>\n",
       "      <td>-</td>\n",
       "      <td>Lleny</td>\n",
       "      <td>Rodriguez:</td>\n",
       "      <td>120</td>\n",
       "      <td>NaN</td>\n",
       "      <td>NaN</td>\n",
       "    </tr>\n",
       "    <tr>\n",
       "      <th>95</th>\n",
       "      <td>2/4/2025,</td>\n",
       "      <td>2:33 pm</td>\n",
       "      <td>-</td>\n",
       "      <td>Yoli:</td>\n",
       "      <td>‎IMG-20250402-WA0031.jpg</td>\n",
       "      <td>(archivo</td>\n",
       "      <td>adjunto)</td>\n",
       "      <td>NaN</td>\n",
       "    </tr>\n",
       "    <tr>\n",
       "      <th>96</th>\n",
       "      <td>580</td>\n",
       "      <td>39</td>\n",
       "      <td>NaN</td>\n",
       "      <td>NaN</td>\n",
       "      <td>NaN</td>\n",
       "      <td>NaN</td>\n",
       "      <td>NaN</td>\n",
       "      <td>NaN</td>\n",
       "    </tr>\n",
       "  </tbody>\n",
       "</table>\n",
       "<p>97 rows × 8 columns</p>\n",
       "</div>"
      ],
      "text/plain": [
       "          col0       col1 col2   col3                      col4  \\\n",
       "0   29/3/2025,  10:33 am     -  Lleny                Rodriguez:   \n",
       "1   29/3/2025,  12:00 pm     -  Lleny                Rodriguez:   \n",
       "2         2750        NaN  NaN    NaN                       NaN   \n",
       "3   29/3/2025,  12:06 pm     -  Lleny                Rodriguez:   \n",
       "4            $        120  NaN    NaN                       NaN   \n",
       "..         ...        ...  ...    ...                       ...   \n",
       "92         240         42   36    NaN                       NaN   \n",
       "93   2/4/2025,   1:38 pm     -  Lleny                Rodriguez:   \n",
       "94   2/4/2025,   1:38 pm     -  Lleny                Rodriguez:   \n",
       "95   2/4/2025,   2:33 pm     -  Yoli:  ‎IMG-20250402-WA0031.jpg   \n",
       "96         580         39  NaN    NaN                       NaN   \n",
       "\n",
       "                        col5      col6      col7  \n",
       "0                        120       NaN       NaN  \n",
       "1   ‎IMG-20250329-WA0022.jpg  (archivo  adjunto)  \n",
       "2                        NaN       NaN       NaN  \n",
       "3   ‎IMG-20250329-WA0024.jpg  (archivo  adjunto)  \n",
       "4                        NaN       NaN       NaN  \n",
       "..                       ...       ...       ...  \n",
       "92                       NaN       NaN       NaN  \n",
       "93  ‎IMG-20250402-WA0013.jpg  (archivo  adjunto)  \n",
       "94                       120       NaN       NaN  \n",
       "95                  (archivo  adjunto)       NaN  \n",
       "96                       NaN       NaN       NaN  \n",
       "\n",
       "[97 rows x 8 columns]"
      ]
     },
     "execution_count": 46,
     "metadata": {},
     "output_type": "execute_result"
    }
   ],
   "source": [
    "df"
   ]
  },
  {
   "cell_type": "code",
   "execution_count": 44,
   "id": "d0e9a2c3-beba-48e0-995f-bd0feb3bc956",
   "metadata": {},
   "outputs": [
    {
     "data": {
      "text/plain": [
       "col0                   2/4/2025,\n",
       "col1                    2:33 pm \n",
       "col2                           -\n",
       "col3                       Yoli:\n",
       "col4    ‎IMG-20250402-WA0031.jpg\n",
       "col5                    (archivo\n",
       "col6                    adjunto)\n",
       "col7                         NaN\n",
       "Name: 95, dtype: object"
      ]
     },
     "execution_count": 44,
     "metadata": {},
     "output_type": "execute_result"
    }
   ],
   "source": [
    "df.iloc[95]"
   ]
  },
  {
   "cell_type": "code",
   "execution_count": null,
   "id": "b852f99e-d323-4fd1-b0bc-fc66234a534a",
   "metadata": {},
   "outputs": [],
   "source": []
  }
 ],
 "metadata": {
  "kernelspec": {
   "display_name": "Python 3 (ipykernel)",
   "language": "python",
   "name": "python3"
  },
  "language_info": {
   "codemirror_mode": {
    "name": "ipython",
    "version": 3
   },
   "file_extension": ".py",
   "mimetype": "text/x-python",
   "name": "python",
   "nbconvert_exporter": "python",
   "pygments_lexer": "ipython3",
   "version": "3.13.7"
  }
 },
 "nbformat": 4,
 "nbformat_minor": 5
}
