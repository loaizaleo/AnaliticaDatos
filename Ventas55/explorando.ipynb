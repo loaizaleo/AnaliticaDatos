{
 "cells": [
  {
   "cell_type": "markdown",
   "id": "9e542a18-2866-4287-bd8e-270c131ef679",
   "metadata": {},
   "source": [
    "# <font color= \"0CAD31\">LECTURA Y PROCESAMIENTO DE DATOS CON NUMPY</font>"
   ]
  },
  {
   "cell_type": "markdown",
   "id": "0a8c2468-b1b4-4ac7-94c7-3572d5952360",
   "metadata": {},
   "source": [
    "#### <font color=\"0C5FAD\">El siguiente código de prueba tiene el propósito de leer un archivo de datos en formato .txt con información separada por espacios en blanco. Seguidamente se requiere ordenar la información de tal manera que tenga una estructura bien definida de filas y columnas, esto para su posterior procesamiento o ingreso en una base de datos sql.</font>"
   ]
  },
  {
   "cell_type": "code",
   "execution_count": 1,
   "id": "19094c18-a3ba-4abc-a666-a223f026cbd5",
   "metadata": {},
   "outputs": [],
   "source": [
    "import numpy as np"
   ]
  },
  {
   "cell_type": "code",
   "execution_count": 2,
   "id": "21438ae9-cbed-416c-b4a2-03d45db6ab3a",
   "metadata": {},
   "outputs": [],
   "source": [
    "def lectura():\n",
    "    with open(\"datos.txt\") as datos:\n",
    "        print (datos.read())"
   ]
  },
  {
   "cell_type": "code",
   "execution_count": 3,
   "id": "5b3afcaa-1eb7-4d4e-94a5-d486c6fa1fe7",
   "metadata": {},
   "outputs": [
    {
     "name": "stdout",
     "output_type": "stream",
     "text": [
      "30/3/2024, 9:56 a. m. - Lleny Rodriguez: IMG-20250329-WA0004.jpg (archivo adjunto)\n",
      "$ 350\n",
      "29/3/2025, 10:33 a. m. - Lleny Rodriguez: IMG-20250329-WA0004.jpg (archivo adjunto)\n",
      "29/3/2025, 10:33 a. m. - Lleny Rodriguez: 120\n",
      "29/3/2025, 12:00 p. m. - Lleny Rodriguez: IMG-20250329-WA0022.jpg (archivo adjunto)\n",
      "2750\n",
      "29/3/2025, 12:06 p. m. - Lleny Rodriguez: IMG-20250329-WA0024.jpg (archivo adjunto)\n",
      "$ 120\n",
      "29/3/2025, 1:00 p. m. - Yoli: IMG-20250329-WA0032.jpg (archivo adjunto)\n",
      "220\n",
      "29/3/2025, 1:14 p. m. - Lleny Rodriguez: IMG-20250329-WA0035.jpg (archivo adjunto)\n",
      "120 4\n",
      "29/3/2025, 1:49 p. m. - Lleny Rodriguez: IMG-20250329-WA0037.jpg (archivo adjunto)\n",
      "29/3/2025, 1:49 p. m. - Lleny Rodriguez: 120\n",
      "29/3/2025, 2:01 p. m. - Lleny Rodriguez: IMG-20250329-WA0039.jpg (archivo adjunto)\n",
      "110 6\n",
      "29/3/2025, 2:11 p. m. - Lleny Rodriguez: IMG-20250329-WA0041.jpg (archivo adjunto)\n",
      "120 2\n",
      "29/3/2025, 3:22 p. m. - Lleny Rodriguez: IMG-20250329-WA0045.jpg (archivo adjunto)\n",
      "$ 120 2\n",
      "29/3/2025, 4:05 p. m. - Yoli: IMG-20250329-WA0050.jpg (archivo adjunto)\n",
      "110 #36\n",
      "\n"
     ]
    }
   ],
   "source": [
    "lectura()"
   ]
  },
  {
   "cell_type": "code",
   "execution_count": 11,
   "id": "46b0f8bb-7eae-4758-b322-e0552face618",
   "metadata": {},
   "outputs": [],
   "source": [
    "import numpy as np"
   ]
  },
  {
   "cell_type": "code",
   "execution_count": 12,
   "id": "0174acde-f9be-420d-aed3-4195ae255201",
   "metadata": {},
   "outputs": [],
   "source": [
    "with open (\"datos04.txt\",\"r\") as archivo:\n",
    "    datos=[line.strip() for line in archivo.readlines()]"
   ]
  },
  {
   "cell_type": "code",
   "execution_count": 13,
   "id": "6c313734-3061-4640-8639-db4be531337c",
   "metadata": {},
   "outputs": [
    {
     "name": "stdout",
     "output_type": "stream",
     "text": [
      "['#col1 col2 col3 col4 col5 col6 col7 col8', '$ 350 NULO NULO NULO NULO NULO NULO', '29/3/2025, 10:33am - Lleny Rodriguez: IMG-20250329-WA0004.jpg (archivo adjunto)', '29/3/2025, 10:33am - Lleny Rodriguez: 120 NULO NULO', '29/3/2025, 12:00pm - Lleny Rodriguez: IMG-20250329-WA0022.jpg (archivo adjunto)', '2750 NULO NULO NULO NULO NULO NULO NULO', '29/3/2025, 12:06pm - Lleny Rodriguez: IMG-20250329-WA0024.jpg (archivo adjunto)', '$ 120 NULO NULO NULO NULO NULO NULO', '29/3/2025, 1:00pm\\u202f - Yoli: IMG-20250329-WA0032.jpg (archivo adjunto) NULO', '220 NULO NULO NULO NULO NULO NULO NULO', '29/3/2025, 1:14pm\\u202f - Lleny Rodriguez: IMG-20250329-WA0035.jpg (archivo adjunto)', '120 4 NULO NULO NULO NULO NULO NULO', '29/3/2025, 1:49pm\\u202f - Lleny Rodriguez: IMG-20250329-WA0037.jpg (archivo adjunto)', '29/3/2025, 1:49pm\\u202f - Lleny Rodriguez: 120 NULO NULO', '29/3/2025, 2:01pm\\u202f - Lleny Rodriguez: IMG-20250329-WA0039.jpg (archivo adjunto)', '110 6 NULO NULO NULO NULO NULO NULO', '29/3/2025, 2:11pm\\u202f - Lleny Rodriguez: IMG-20250329-WA0041.jpg (archivo adjunto)', '120 2 NULO NULO NULO NULO NULO NULO', '29/3/2025, 3:22pm\\u202f - Lleny Rodriguez: IMG-20250329-WA0045.jpg (archivo adjunto)', '$ 120 2 NULO NULO NULO NULO NULO', '29/3/2025, 4:05pm\\u202f - Yoli: IMG-20250329-WA0050.jpg (archivo adjunto) NULO', '110 -36 NULO NULO NULO NULO NULO NULO']\n"
     ]
    }
   ],
   "source": [
    "print (datos)"
   ]
  },
  {
   "cell_type": "markdown",
   "id": "0ecc698d-cc3a-4f51-9ef5-20213303cb3e",
   "metadata": {},
   "source": [
    "### <font color=\"0C5FAD\">Transponer en array para trabajar con los datos de las filas</font>"
   ]
  },
  {
   "cell_type": "code",
   "execution_count": 14,
   "id": "e3898f06-05af-44fd-b49a-78dc51bab343",
   "metadata": {},
   "outputs": [],
   "source": [
    "array_numpy = np.array(datos)"
   ]
  },
  {
   "cell_type": "code",
   "execution_count": 18,
   "id": "aa202e83-f744-409b-b735-b5a5961bd2a1",
   "metadata": {},
   "outputs": [
    {
     "name": "stdout",
     "output_type": "stream",
     "text": [
      "['#col1 col2 col3 col4 col5 col6 col7 col8'\n",
      " '$ 350 NULO NULO NULO NULO NULO NULO'\n",
      " '29/3/2025, 10:33am - Lleny Rodriguez: IMG-20250329-WA0004.jpg (archivo adjunto)'\n",
      " '29/3/2025, 10:33am - Lleny Rodriguez: 120 NULO NULO'\n",
      " '29/3/2025, 12:00pm - Lleny Rodriguez: IMG-20250329-WA0022.jpg (archivo adjunto)'\n",
      " '2750 NULO NULO NULO NULO NULO NULO NULO'\n",
      " '29/3/2025, 12:06pm - Lleny Rodriguez: IMG-20250329-WA0024.jpg (archivo adjunto)'\n",
      " '$ 120 NULO NULO NULO NULO NULO NULO'\n",
      " '29/3/2025, 1:00pm\\u202f - Yoli: IMG-20250329-WA0032.jpg (archivo adjunto) NULO'\n",
      " '220 NULO NULO NULO NULO NULO NULO NULO'\n",
      " '29/3/2025, 1:14pm\\u202f - Lleny Rodriguez: IMG-20250329-WA0035.jpg (archivo adjunto)'\n",
      " '120 4 NULO NULO NULO NULO NULO NULO'\n",
      " '29/3/2025, 1:49pm\\u202f - Lleny Rodriguez: IMG-20250329-WA0037.jpg (archivo adjunto)'\n",
      " '29/3/2025, 1:49pm\\u202f - Lleny Rodriguez: 120 NULO NULO'\n",
      " '29/3/2025, 2:01pm\\u202f - Lleny Rodriguez: IMG-20250329-WA0039.jpg (archivo adjunto)'\n",
      " '110 6 NULO NULO NULO NULO NULO NULO'\n",
      " '29/3/2025, 2:11pm\\u202f - Lleny Rodriguez: IMG-20250329-WA0041.jpg (archivo adjunto)'\n",
      " '120 2 NULO NULO NULO NULO NULO NULO'\n",
      " '29/3/2025, 3:22pm\\u202f - Lleny Rodriguez: IMG-20250329-WA0045.jpg (archivo adjunto)'\n",
      " '$ 120 2 NULO NULO NULO NULO NULO'\n",
      " '29/3/2025, 4:05pm\\u202f - Yoli: IMG-20250329-WA0050.jpg (archivo adjunto) NULO'\n",
      " '110 -36 NULO NULO NULO NULO NULO NULO']\n"
     ]
    }
   ],
   "source": [
    "print (array_numpy)"
   ]
  },
  {
   "cell_type": "code",
   "execution_count": 23,
   "id": "f42eb9fb-7268-4db5-b741-163d881dcda4",
   "metadata": {},
   "outputs": [],
   "source": [
    "array_TR = np.transpose(array_numpy)"
   ]
  },
  {
   "cell_type": "code",
   "execution_count": 24,
   "id": "38bfd0db-5916-41a8-83d8-c0ae64a82dc4",
   "metadata": {},
   "outputs": [
    {
     "name": "stdout",
     "output_type": "stream",
     "text": [
      "['#col1 col2 col3 col4 col5 col6 col7 col8'\n",
      " '$ 350 NULO NULO NULO NULO NULO NULO'\n",
      " '29/3/2025, 10:33am - Lleny Rodriguez: IMG-20250329-WA0004.jpg (archivo adjunto)'\n",
      " '29/3/2025, 10:33am - Lleny Rodriguez: 120 NULO NULO'\n",
      " '29/3/2025, 12:00pm - Lleny Rodriguez: IMG-20250329-WA0022.jpg (archivo adjunto)'\n",
      " '2750 NULO NULO NULO NULO NULO NULO NULO'\n",
      " '29/3/2025, 12:06pm - Lleny Rodriguez: IMG-20250329-WA0024.jpg (archivo adjunto)'\n",
      " '$ 120 NULO NULO NULO NULO NULO NULO'\n",
      " '29/3/2025, 1:00pm\\u202f - Yoli: IMG-20250329-WA0032.jpg (archivo adjunto) NULO'\n",
      " '220 NULO NULO NULO NULO NULO NULO NULO'\n",
      " '29/3/2025, 1:14pm\\u202f - Lleny Rodriguez: IMG-20250329-WA0035.jpg (archivo adjunto)'\n",
      " '120 4 NULO NULO NULO NULO NULO NULO'\n",
      " '29/3/2025, 1:49pm\\u202f - Lleny Rodriguez: IMG-20250329-WA0037.jpg (archivo adjunto)'\n",
      " '29/3/2025, 1:49pm\\u202f - Lleny Rodriguez: 120 NULO NULO'\n",
      " '29/3/2025, 2:01pm\\u202f - Lleny Rodriguez: IMG-20250329-WA0039.jpg (archivo adjunto)'\n",
      " '110 6 NULO NULO NULO NULO NULO NULO'\n",
      " '29/3/2025, 2:11pm\\u202f - Lleny Rodriguez: IMG-20250329-WA0041.jpg (archivo adjunto)'\n",
      " '120 2 NULO NULO NULO NULO NULO NULO'\n",
      " '29/3/2025, 3:22pm\\u202f - Lleny Rodriguez: IMG-20250329-WA0045.jpg (archivo adjunto)'\n",
      " '$ 120 2 NULO NULO NULO NULO NULO'\n",
      " '29/3/2025, 4:05pm\\u202f - Yoli: IMG-20250329-WA0050.jpg (archivo adjunto) NULO'\n",
      " '110 -36 NULO NULO NULO NULO NULO NULO']\n"
     ]
    }
   ],
   "source": [
    "print (array_TR)"
   ]
  },
  {
   "cell_type": "code",
   "execution_count": 10,
   "id": "e830fda2-462a-4d1c-a19f-0dd244aa9c71",
   "metadata": {},
   "outputs": [
    {
     "name": "stdout",
     "output_type": "stream",
     "text": [
      "El array se ha guardado correctamente en 'dato04_TR.txt'.\n"
     ]
    }
   ],
   "source": [
    "# Guardar el array en un archivo .txt\n",
    "try:\n",
    "    # Especificar el nombre del archivo\n",
    "    archivo_salida = \"dato04_TR.txt\"\n",
    "    \n",
    "    # Guardar el array en el archivo con formato personalizado\n",
    "    np.savetxt(archivo_salida, array_transpuesto, fmt='%s', delimiter=\" \", header='Array guardado:', comments='')\n",
    "\n",
    "    print(f\"El array se ha guardado correctamente en '{archivo_salida}'.\")\n",
    "except Exception as e:\n",
    "    print(f\"Error al guardar el archivo: {e}\")"
   ]
  },
  {
   "cell_type": "code",
   "execution_count": 26,
   "id": "40805863-a1ff-4540-a7c9-75d6ad3a421c",
   "metadata": {},
   "outputs": [],
   "source": [
    "TR=np.transpose(array_TR)"
   ]
  },
  {
   "cell_type": "code",
   "execution_count": 28,
   "id": "4100b638-61d1-4f86-baf0-86ff6f57e72c",
   "metadata": {},
   "outputs": [
    {
     "name": "stdout",
     "output_type": "stream",
     "text": [
      "['#col1 col2 col3 col4 col5 col6 col7 col8'\n",
      " '$ 350 NULO NULO NULO NULO NULO NULO'\n",
      " '29/3/2025, 10:33am - Lleny Rodriguez: IMG-20250329-WA0004.jpg (archivo adjunto)'\n",
      " '29/3/2025, 10:33am - Lleny Rodriguez: 120 NULO NULO'\n",
      " '29/3/2025, 12:00pm - Lleny Rodriguez: IMG-20250329-WA0022.jpg (archivo adjunto)'\n",
      " '2750 NULO NULO NULO NULO NULO NULO NULO'\n",
      " '29/3/2025, 12:06pm - Lleny Rodriguez: IMG-20250329-WA0024.jpg (archivo adjunto)'\n",
      " '$ 120 NULO NULO NULO NULO NULO NULO'\n",
      " '29/3/2025, 1:00pm\\u202f - Yoli: IMG-20250329-WA0032.jpg (archivo adjunto) NULO'\n",
      " '220 NULO NULO NULO NULO NULO NULO NULO'\n",
      " '29/3/2025, 1:14pm\\u202f - Lleny Rodriguez: IMG-20250329-WA0035.jpg (archivo adjunto)'\n",
      " '120 4 NULO NULO NULO NULO NULO NULO'\n",
      " '29/3/2025, 1:49pm\\u202f - Lleny Rodriguez: IMG-20250329-WA0037.jpg (archivo adjunto)'\n",
      " '29/3/2025, 1:49pm\\u202f - Lleny Rodriguez: 120 NULO NULO'\n",
      " '29/3/2025, 2:01pm\\u202f - Lleny Rodriguez: IMG-20250329-WA0039.jpg (archivo adjunto)'\n",
      " '110 6 NULO NULO NULO NULO NULO NULO'\n",
      " '29/3/2025, 2:11pm\\u202f - Lleny Rodriguez: IMG-20250329-WA0041.jpg (archivo adjunto)'\n",
      " '120 2 NULO NULO NULO NULO NULO NULO'\n",
      " '29/3/2025, 3:22pm\\u202f - Lleny Rodriguez: IMG-20250329-WA0045.jpg (archivo adjunto)'\n",
      " '$ 120 2 NULO NULO NULO NULO NULO'\n",
      " '29/3/2025, 4:05pm\\u202f - Yoli: IMG-20250329-WA0050.jpg (archivo adjunto) NULO'\n",
      " '110 -36 NULO NULO NULO NULO NULO NULO']\n"
     ]
    }
   ],
   "source": [
    "print(TR)"
   ]
  },
  {
   "cell_type": "markdown",
   "id": "68281a87-146e-409f-8de5-379f6086ff37",
   "metadata": {},
   "source": [
    "### <font color=\"0C5FAD\">Usando el comando np.loadtxt()</font>"
   ]
  },
  {
   "cell_type": "markdown",
   "id": "84b75147-c6b9-4757-8fbe-a88515f805b5",
   "metadata": {},
   "source": [
    "#### <font color=\"0CAD31\">Para poder usar este comando la matriz de datos NO puede contener datos vacíos, de lo contrario genera errores y no se puede compilar. Para solucionar esto, primero se debe recorrer la matriz y llenarla con algún valor \"NULO\".<br>Tampoco se puede incluir el carácter \"#\" en el archivo de datos .txt porque se interpretaran como comentarios.</font>"
   ]
  },
  {
   "cell_type": "code",
   "execution_count": 3,
   "id": "f3109d59-3ace-4c8c-b624-d65701fd0d81",
   "metadata": {},
   "outputs": [],
   "source": [
    "import numpy as np\n",
    "f1,f2,f3,f4,f5,f6,f7,f8,f9,f10,f11,f12,f13,f14,f15,f16,f17,f18,f19,f20,f21 = np.loadtxt(\"array_salida.txt\", unpack = True, dtype = str )"
   ]
  },
  {
   "cell_type": "code",
   "execution_count": 4,
   "id": "e82f6794-e24d-4caf-b553-cae4e1e4f6b1",
   "metadata": {},
   "outputs": [
    {
     "name": "stdout",
     "output_type": "stream",
     "text": [
      "['$' '350' 'NULO' 'NULO' 'NULO' 'NULO' 'NULO' 'NULO']\n"
     ]
    }
   ],
   "source": [
    "print(f1)"
   ]
  },
  {
   "cell_type": "code",
   "execution_count": null,
   "id": "7fdd323c-26d6-46d9-8aa1-6c677312ef02",
   "metadata": {},
   "outputs": [],
   "source": []
  },
  {
   "cell_type": "markdown",
   "id": "7c53fc08-f918-468c-9d06-3d050c8feb9e",
   "metadata": {},
   "source": [
    "## <font color=\"0C5FAD\">Reconocer diferentes tipos de datos</font>"
   ]
  },
  {
   "cell_type": "code",
   "execution_count": 36,
   "id": "715559d7-21cb-4a15-8fec-bf8c5d0b2f75",
   "metadata": {},
   "outputs": [],
   "source": [
    "F3=np.array(f3)"
   ]
  },
  {
   "cell_type": "code",
   "execution_count": 37,
   "id": "0013b006-107f-46d1-9eab-6128ece6ac35",
   "metadata": {},
   "outputs": [
    {
     "name": "stdout",
     "output_type": "stream",
     "text": [
      "['29/3/2025,' '10:33am' '-' 'Lleny' 'Rodriguez:' '120' 'NULO' 'NULO']\n"
     ]
    }
   ],
   "source": [
    "print (F3)"
   ]
  },
  {
   "cell_type": "code",
   "execution_count": 39,
   "id": "275cc19e-26e5-4ad1-bfe5-61edd1ea0139",
   "metadata": {},
   "outputs": [
    {
     "name": "stdout",
     "output_type": "stream",
     "text": [
      "Elemento: 29/3/2025,  Tipo: <class 'numpy.str_'>\n",
      "Elemento: 10:33am  Tipo: <class 'numpy.str_'>\n",
      "Elemento: -  Tipo: <class 'numpy.str_'>\n",
      "Elemento: Lleny  Tipo: <class 'numpy.str_'>\n",
      "Elemento: Rodriguez:  Tipo: <class 'numpy.str_'>\n",
      "Elemento: 120  Tipo: <class 'numpy.str_'>\n",
      "Elemento: NULO  Tipo: <class 'numpy.str_'>\n",
      "Elemento: NULO  Tipo: <class 'numpy.str_'>\n"
     ]
    }
   ],
   "source": [
    "for elemento in F3:\n",
    "    print(f\"Elemento: {elemento}  Tipo: {type(elemento)}\")"
   ]
  },
  {
   "cell_type": "code",
   "execution_count": 40,
   "id": "e5d0a968-d531-481e-9a94-e5470219a241",
   "metadata": {},
   "outputs": [
    {
     "data": {
      "text/plain": [
       "2870"
      ]
     },
     "execution_count": 40,
     "metadata": {},
     "output_type": "execute_result"
    }
   ],
   "source": [
    "int(F3[5])+int(f5[0])"
   ]
  },
  {
   "cell_type": "code",
   "execution_count": 71,
   "id": "928b743f-0f6a-4ae1-ab16-ed44a4a7045f",
   "metadata": {},
   "outputs": [],
   "source": [
    "def convertir_elementos(lista):\n",
    "    resultado = []\n",
    "    for elemento in lista:\n",
    "        # Si el elemento puede convertirse a entero, lo convertimos\n",
    "        if elemento.strip().lstrip('-').isdigit():\n",
    "            resultado.append(int(elemento))\n",
    "        else:\n",
    "            resultado.append(0)\n",
    "    return resultado    "
   ]
  },
  {
   "cell_type": "code",
   "execution_count": 75,
   "id": "52ff18f4-659d-427d-9359-6e20747c9dee",
   "metadata": {},
   "outputs": [
    {
     "name": "stdout",
     "output_type": "stream",
     "text": [
      "['29/3/2025,' '12:00pm' '-' 'Lleny' 'Rodriguez:' 'IMG-20250329-WA0022.jpg'\n",
      " '(archivo' 'adjunto)']\n"
     ]
    }
   ],
   "source": [
    "print(f4)"
   ]
  },
  {
   "cell_type": "code",
   "execution_count": 76,
   "id": "145826f3-25c3-4719-9e63-c1cbb48d7fd2",
   "metadata": {},
   "outputs": [
    {
     "data": {
      "text/plain": [
       "[0, 350, 0, 0, 0, 0, 0, 0]"
      ]
     },
     "execution_count": 76,
     "metadata": {},
     "output_type": "execute_result"
    }
   ],
   "source": [
    "convertir_elementos(f1)"
   ]
  },
  {
   "cell_type": "code",
   "execution_count": 83,
   "id": "f9c711f8-a753-4d03-9f34-0a5b84313f8d",
   "metadata": {},
   "outputs": [],
   "source": [
    "import re\n",
    "from datetime import datetime\n",
    "\n",
    "def convertir_elementos_completo(lista):\n",
    "    resultado = []\n",
    "    \n",
    "    for elemento in lista:\n",
    "        # Limpiar el elemento\n",
    "        elemento_limpio = elemento.strip().rstrip(',')\n",
    "        \n",
    "        # Patrón para fechas con días/meses de 1-2 dígitos\n",
    "        if re.match(r'^\\d{1,2}/\\d{1,2}/\\d{4}$', elemento_limpio):\n",
    "            try:\n",
    "                # Convertir dividiendo los componentes\n",
    "                partes = elemento_limpio.split('/')\n",
    "                dia = int(partes[0])\n",
    "                mes = int(partes[1])\n",
    "                año = int(partes[2])\n",
    "                fecha = datetime(año, mes, dia).date()\n",
    "                resultado.append(fecha)\n",
    "                continue\n",
    "            except ValueError:\n",
    "                pass  # Fecha inválida, continuar con otros tipos\n",
    "        \n",
    "        # Verificar si es número\n",
    "        if elemento_limpio.lstrip('-').isdigit():\n",
    "            resultado.append(int(elemento_limpio))\n",
    "        else:\n",
    "            resultado.append(0)\n",
    "    \n",
    "    return resultado\n",
    "\n",
    "# Prueba con tu caso específico\n",
    "#lista_original = [\"29/3/2025,\", \"123\", \"Juan\", \"5/12/2023\", \"1/1/2024\"]\n",
    "#lista_convertida = convertir_elementos_practico(lista_original)\n",
    "#for original, convertido in zip(lista_original, lista_convertida):\n",
    "#    print(f\"'{original}' -> {convertido} (tipo: {type(convertido).__name__})\")"
   ]
  },
  {
   "cell_type": "code",
   "execution_count": 87,
   "id": "41ff210c-d198-4fb8-9240-0c429bf7cd9f",
   "metadata": {},
   "outputs": [
    {
     "data": {
      "text/plain": [
       "[datetime.date(2025, 3, 29), 0, 0, 0, 0, 120, 0, 0]"
      ]
     },
     "execution_count": 87,
     "metadata": {},
     "output_type": "execute_result"
    }
   ],
   "source": [
    "convertir_elementos_completo(f3)"
   ]
  },
  {
   "cell_type": "raw",
   "id": "d3bcf193-fd89-4366-8259-e57854ee3069",
   "metadata": {},
   "source": [
    "a = []"
   ]
  },
  {
   "cell_type": "code",
   "execution_count": 89,
   "id": "27541f67-7c1c-40c0-a5d5-61a1160e5cd6",
   "metadata": {},
   "outputs": [
    {
     "name": "stdout",
     "output_type": "stream",
     "text": [
      "[datetime.date(2025, 3, 29), 0, 0, 0, 0, 120, 0, 0]\n"
     ]
    }
   ],
   "source": [
    "a = convertir_elementos_completo(f3)\n",
    "print(a)"
   ]
  },
  {
   "cell_type": "code",
   "execution_count": 90,
   "id": "14717a5d-f413-418f-a52d-69d6ed33095b",
   "metadata": {},
   "outputs": [],
   "source": [
    "import re\n",
    "from datetime import datetime, time\n",
    "\n",
    "def convertir_lista_completa(lista):\n",
    "    \"\"\"\n",
    "    Convierte una lista de strings a:\n",
    "    - objetos date para fechas (DD/MM/AAAA o D/M/AAAA)\n",
    "    - objetos time para horas (HH:MMam/pm o HH:MM)\n",
    "    - int para números\n",
    "    - 0 para nombres u otros textos\n",
    "    \"\"\"\n",
    "    resultado = []\n",
    "    \n",
    "    for elemento in lista:\n",
    "        elemento_limpio = elemento.strip().rstrip(',')\n",
    "        \n",
    "        # 1. Primero intentar convertir fechas\n",
    "        fecha_convertida = detectar_fecha(elemento_limpio)\n",
    "        if fecha_convertida:\n",
    "            resultado.append(fecha_convertida)\n",
    "            continue\n",
    "            \n",
    "        # 2. Luego intentar convertir horas\n",
    "        hora_convertida = detectar_hora(elemento_limpio)\n",
    "        if hora_convertida:\n",
    "            resultado.append(hora_convertida)\n",
    "            continue\n",
    "            \n",
    "        # 3. Luego intentar convertir números\n",
    "        if elemento_limpio.lstrip('-').isdigit():\n",
    "            resultado.append(int(elemento_limpio))\n",
    "        else:\n",
    "            resultado.append(0)\n",
    "    \n",
    "    return resultado\n",
    "\n",
    "def detectar_fecha(cadena):\n",
    "    \"\"\"Detecta y convierte formatos de fecha DD/MM/AAAA o D/M/AAAA\"\"\"\n",
    "    if re.match(r'^\\d{1,2}/\\d{1,2}/\\d{4}$', cadena):\n",
    "        try:\n",
    "            partes = cadena.split('/')\n",
    "            dia, mes, año = int(partes[0]), int(partes[1]), int(partes[2])\n",
    "            return datetime(año, mes, dia).date()\n",
    "        except ValueError:\n",
    "            return None\n",
    "    return None\n",
    "\n",
    "def detectar_hora(cadena):\n",
    "    \"\"\"Detecta y convierte formatos de hora HH:MMam/pm, HH:MM, etc.\"\"\"\n",
    "    cadena_lower = cadena.lower()\n",
    "    \n",
    "    # Patrón para horas con AM/PM (12:00pm, 1:30am, etc.)\n",
    "    patron_12h = re.match(r'^(\\d{1,2}):(\\d{2})\\s*([ap]m)$', cadena_lower)\n",
    "    if patron_12h:\n",
    "        try:\n",
    "            hora = int(patron_12h.group(1))\n",
    "            minuto = int(patron_12h.group(2))\n",
    "            periodo = patron_12h.group(3)\n",
    "            \n",
    "            # Convertir de 12h a 24h\n",
    "            if periodo == 'pm' and hora != 12:\n",
    "                hora += 12\n",
    "            elif periodo == 'am' and hora == 12:\n",
    "                hora = 0\n",
    "                \n",
    "            return time(hora, minuto)\n",
    "        except ValueError:\n",
    "            return None\n",
    "    \n",
    "    # Patrón para horas en formato 24h (14:30, 09:45, etc.)\n",
    "    patron_24h = re.match(r'^(\\d{1,2}):(\\d{2})$', cadena)\n",
    "    if patron_24h:\n",
    "        try:\n",
    "            hora = int(patron_24h.group(1))\n",
    "            minuto = int(patron_24h.group(2))\n",
    "            if 0 <= hora <= 23 and 0 <= minuto <= 59:\n",
    "                return time(hora, minuto)\n",
    "        except ValueError:\n",
    "            return None\n",
    "    \n",
    "    return None\n",
    "\n",
    "# Ejemplo de uso\n",
    "#lista_original = [\n",
    "#    \"29/3/2025,\", \"123\", \"Juan\", \"12:00pm\", \"14:30\", \n",
    "#    \"9:45am\", \"5/12/2023\", \"1:00pm\", \"25\", \"María\"\n",
    "#]\n",
    "\n",
    "#lista_convertida = convertir_lista_completa(lista_original)\n",
    "\n",
    "#print(\"Conversión completa:\")\n",
    "#print(\"-\" * 50)\n",
    "#for original, convertido in zip(lista_original, lista_convertida):\n",
    "#    print(f\"'{original}' -> {convertido} (tipo: {type(convertido).__name__})\")"
   ]
  },
  {
   "cell_type": "code",
   "execution_count": 92,
   "id": "5a9b0951-8ea6-45b9-b5bd-e8fbe3b5c45c",
   "metadata": {},
   "outputs": [
    {
     "name": "stdout",
     "output_type": "stream",
     "text": [
      "[datetime.date(2025, 3, 29), datetime.time(10, 33), 0, 0, 0, 120, 0, 0]\n"
     ]
    }
   ],
   "source": [
    "a=convertir_lista_completa(f3)\n",
    "print (a)"
   ]
  },
  {
   "cell_type": "code",
   "execution_count": 93,
   "id": "cfa28abd-842e-4805-8eb1-270b9a97c006",
   "metadata": {},
   "outputs": [
    {
     "name": "stdout",
     "output_type": "stream",
     "text": [
      "[0, 350, 0, 0, 0, 0, 0, 0]\n"
     ]
    }
   ],
   "source": [
    "b=[]\n",
    "b=convertir_lista_completa(f1)\n",
    "print (b)\n"
   ]
  },
  {
   "cell_type": "code",
   "execution_count": 95,
   "id": "335b5d67-4d69-49ee-8d76-d7c87ae84cc0",
   "metadata": {},
   "outputs": [
    {
     "name": "stdout",
     "output_type": "stream",
     "text": [
      "[datetime.date(2025, 3, 29), datetime.time(10, 33), 0, 0, 0, 0, 0, 0]\n"
     ]
    }
   ],
   "source": [
    "c=[]\n",
    "c=convertir_lista_completa(f2)\n",
    "print (c)\n"
   ]
  },
  {
   "cell_type": "code",
   "execution_count": 96,
   "id": "b9842c35-1f33-4140-89df-b664f32cefd9",
   "metadata": {},
   "outputs": [
    {
     "name": "stdout",
     "output_type": "stream",
     "text": [
      "['29/3/2025,' '10:33am' '-' 'Lleny' 'Rodriguez:' 'IMG-20250329-WA0004.jpg'\n",
      " '(archivo' 'adjunto)']\n"
     ]
    }
   ],
   "source": [
    "print (f2)"
   ]
  },
  {
   "cell_type": "markdown",
   "id": "99d01bc3-a3c2-4261-9c02-95be417edc84",
   "metadata": {},
   "source": [
    "# <font color=\"0C5FAD\">Distribuir las lineas en listas individuales</font>"
   ]
  },
  {
   "cell_type": "code",
   "execution_count": 7,
   "id": "102e4a00-347f-45f2-93fd-bd296ec9aa5f",
   "metadata": {},
   "outputs": [],
   "source": [
    "with open (\"datos2.txt\",\"r\") as archivo:\n",
    "    datos=[line.strip() for line in archivo.readlines()]"
   ]
  },
  {
   "cell_type": "code",
   "execution_count": 8,
   "id": "21734c99-ecf0-4bb1-9e11-d043af128477",
   "metadata": {},
   "outputs": [],
   "source": [
    "uno, dos, tres,cuatro, cinco, seis, siete, ocho, nueve, diez=[],[],[],[],[],[],[],[],[],[]\n",
    "for a in datos:\n",
    "    a=a.split()\n",
    "    uno.append(a[0])\n",
    "    dos.append(a[1])\n",
    "    tres.append(a[2])\n",
    "    cuatro.append(a[3])\n",
    "    cinco.append(a[4])\n",
    "    seis.append(a[5])\n",
    "    siete.append(a[6])\n",
    "    ocho.append(a[7])\n",
    "    nueve.append(a[8])\n",
    "    diez.append(a[9])\n",
    "    "
   ]
  },
  {
   "cell_type": "code",
   "execution_count": 9,
   "id": "f481853a-c3c7-44d1-8d14-7345eef7f72c",
   "metadata": {},
   "outputs": [
    {
     "data": {
      "text/plain": [
       "['Lleny', 'Yolanda', 'Samir']"
      ]
     },
     "execution_count": 9,
     "metadata": {},
     "output_type": "execute_result"
    }
   ],
   "source": [
    "seis"
   ]
  },
  {
   "cell_type": "code",
   "execution_count": 81,
   "id": "4ad14f83-8c8b-4627-a91b-5dae125860cc",
   "metadata": {},
   "outputs": [],
   "source": [
    "with open (\"datos.txt\",\"r\") as archivo:\n",
    "    datos=[line.strip() for line in archivo.readlines()]"
   ]
  },
  {
   "cell_type": "code",
   "execution_count": 82,
   "id": "adeb0b68-4abc-46ef-9126-c12c21ab749f",
   "metadata": {},
   "outputs": [
    {
     "data": {
      "text/plain": [
       "['30/3/2024, 9:56\\u202fa.\\u202fm. - Lleny Rodriguez: <Multimedia omitido>',\n",
       " '$ 350',\n",
       " '29/3/2025, 10:33\\u202fa.\\u202fm. - Lleny Rodriguez: IMG-20250329-WA0004.jpg (archivo adjunto)',\n",
       " '29/3/2025, 10:33\\u202fa.\\u202fm. - Lleny Rodriguez: 120',\n",
       " '29/3/2025, 12:00\\u202fp.\\u202fm. - Lleny Rodriguez: IMG-20250329-WA0022.jpg (archivo adjunto)',\n",
       " '2750',\n",
       " '29/3/2025, 12:06\\u202fp.\\u202fm. - Lleny Rodriguez: IMG-20250329-WA0024.jpg (archivo adjunto)',\n",
       " '$ 120',\n",
       " '29/3/2025, 1:00\\u202fp.\\u202fm. - Yoli: IMG-20250329-WA0032.jpg (archivo adjunto)',\n",
       " '220',\n",
       " '29/3/2025, 1:14\\u202fp.\\u202fm. - Lleny Rodriguez: IMG-20250329-WA0035.jpg (archivo adjunto)',\n",
       " '120 4',\n",
       " '29/3/2025, 1:49\\u202fp.\\u202fm. - Lleny Rodriguez: IMG-20250329-WA0037.jpg (archivo adjunto)',\n",
       " '29/3/2025, 1:49\\u202fp.\\u202fm. - Lleny Rodriguez: 120',\n",
       " '29/3/2025, 2:01\\u202fp.\\u202fm. - Lleny Rodriguez: IMG-20250329-WA0039.jpg (archivo adjunto)',\n",
       " '110 6',\n",
       " '29/3/2025, 2:11\\u202fp.\\u202fm. - Lleny Rodriguez: IMG-20250329-WA0041.jpg (archivo adjunto)',\n",
       " '120 2',\n",
       " '29/3/2025, 3:22\\u202fp.\\u202fm. - Lleny Rodriguez: IMG-20250329-WA0045.jpg (archivo adjunto)',\n",
       " '$ 120 2',\n",
       " '29/3/2025, 4:05\\u202fp.\\u202fm. - Yoli: IMG-20250329-WA0050.jpg (archivo adjunto)',\n",
       " '110 #36']"
      ]
     },
     "execution_count": 82,
     "metadata": {},
     "output_type": "execute_result"
    }
   ],
   "source": [
    "datos"
   ]
  },
  {
   "cell_type": "markdown",
   "id": "249ba9b2-3480-41c1-8b61-2fa4265deca0",
   "metadata": {},
   "source": [
    "# <font color=\"0C5FAD\">CÓDIGO USANDO PANDAS</font>"
   ]
  },
  {
   "cell_type": "code",
   "execution_count": 35,
   "id": "43244fc5-4c23-4b74-8360-329ff6f1e56b",
   "metadata": {},
   "outputs": [],
   "source": [
    "import pandas as pd"
   ]
  },
  {
   "cell_type": "code",
   "execution_count": 36,
   "id": "f8f19d44-2977-48f3-beeb-fe1862a054d6",
   "metadata": {},
   "outputs": [
    {
     "data": {
      "text/html": [
       "<div>\n",
       "<style scoped>\n",
       "    .dataframe tbody tr th:only-of-type {\n",
       "        vertical-align: middle;\n",
       "    }\n",
       "\n",
       "    .dataframe tbody tr th {\n",
       "        vertical-align: top;\n",
       "    }\n",
       "\n",
       "    .dataframe thead th {\n",
       "        text-align: right;\n",
       "    }\n",
       "</style>\n",
       "<table border=\"1\" class=\"dataframe\">\n",
       "  <thead>\n",
       "    <tr style=\"text-align: right;\">\n",
       "      <th></th>\n",
       "      <th>col1</th>\n",
       "      <th>col2</th>\n",
       "      <th>col3</th>\n",
       "      <th>col4</th>\n",
       "      <th>col5</th>\n",
       "      <th>col6</th>\n",
       "      <th>col7</th>\n",
       "      <th>col8</th>\n",
       "    </tr>\n",
       "  </thead>\n",
       "  <tbody>\n",
       "    <tr>\n",
       "      <th>0</th>\n",
       "      <td>$</td>\n",
       "      <td>350</td>\n",
       "      <td>NULO</td>\n",
       "      <td>NULO</td>\n",
       "      <td>NULO</td>\n",
       "      <td>NULO</td>\n",
       "      <td>NULO</td>\n",
       "      <td>NULO</td>\n",
       "    </tr>\n",
       "    <tr>\n",
       "      <th>1</th>\n",
       "      <td>29/3/2025,</td>\n",
       "      <td>10:33am</td>\n",
       "      <td>-</td>\n",
       "      <td>Lleny</td>\n",
       "      <td>Rodriguez:</td>\n",
       "      <td>IMG-20250329-WA0004.jpg</td>\n",
       "      <td>(archivo</td>\n",
       "      <td>adjunto)</td>\n",
       "    </tr>\n",
       "    <tr>\n",
       "      <th>2</th>\n",
       "      <td>29/3/2025,</td>\n",
       "      <td>10:33am</td>\n",
       "      <td>-</td>\n",
       "      <td>Lleny</td>\n",
       "      <td>Rodriguez:</td>\n",
       "      <td>120</td>\n",
       "      <td>NULO</td>\n",
       "      <td>NULO</td>\n",
       "    </tr>\n",
       "    <tr>\n",
       "      <th>3</th>\n",
       "      <td>29/3/2025,</td>\n",
       "      <td>12:00pm</td>\n",
       "      <td>-</td>\n",
       "      <td>Lleny</td>\n",
       "      <td>Rodriguez:</td>\n",
       "      <td>IMG-20250329-WA0022.jpg</td>\n",
       "      <td>(archivo</td>\n",
       "      <td>adjunto)</td>\n",
       "    </tr>\n",
       "    <tr>\n",
       "      <th>4</th>\n",
       "      <td>2750</td>\n",
       "      <td>NULO</td>\n",
       "      <td>NULO</td>\n",
       "      <td>NULO</td>\n",
       "      <td>NULO</td>\n",
       "      <td>NULO</td>\n",
       "      <td>NULO</td>\n",
       "      <td>NULO</td>\n",
       "    </tr>\n",
       "    <tr>\n",
       "      <th>5</th>\n",
       "      <td>29/3/2025,</td>\n",
       "      <td>12:06pm</td>\n",
       "      <td>-</td>\n",
       "      <td>Lleny</td>\n",
       "      <td>Rodriguez:</td>\n",
       "      <td>IMG-20250329-WA0024.jpg</td>\n",
       "      <td>(archivo</td>\n",
       "      <td>adjunto)</td>\n",
       "    </tr>\n",
       "    <tr>\n",
       "      <th>6</th>\n",
       "      <td>$</td>\n",
       "      <td>120</td>\n",
       "      <td>NULO</td>\n",
       "      <td>NULO</td>\n",
       "      <td>NULO</td>\n",
       "      <td>NULO</td>\n",
       "      <td>NULO</td>\n",
       "      <td>NULO</td>\n",
       "    </tr>\n",
       "    <tr>\n",
       "      <th>7</th>\n",
       "      <td>29/3/2025,</td>\n",
       "      <td>1:00pm</td>\n",
       "      <td>-</td>\n",
       "      <td>Yoli:</td>\n",
       "      <td>IMG-20250329-WA0032.jpg</td>\n",
       "      <td>(archivo</td>\n",
       "      <td>adjunto)</td>\n",
       "      <td>NULO</td>\n",
       "    </tr>\n",
       "    <tr>\n",
       "      <th>8</th>\n",
       "      <td>220</td>\n",
       "      <td>NULO</td>\n",
       "      <td>NULO</td>\n",
       "      <td>NULO</td>\n",
       "      <td>NULO</td>\n",
       "      <td>NULO</td>\n",
       "      <td>NULO</td>\n",
       "      <td>NULO</td>\n",
       "    </tr>\n",
       "    <tr>\n",
       "      <th>9</th>\n",
       "      <td>29/3/2025,</td>\n",
       "      <td>1:14pm</td>\n",
       "      <td>-</td>\n",
       "      <td>Lleny</td>\n",
       "      <td>Rodriguez:</td>\n",
       "      <td>IMG-20250329-WA0035.jpg</td>\n",
       "      <td>(archivo</td>\n",
       "      <td>adjunto)</td>\n",
       "    </tr>\n",
       "    <tr>\n",
       "      <th>10</th>\n",
       "      <td>120</td>\n",
       "      <td>4</td>\n",
       "      <td>NULO</td>\n",
       "      <td>NULO</td>\n",
       "      <td>NULO</td>\n",
       "      <td>NULO</td>\n",
       "      <td>NULO</td>\n",
       "      <td>NULO</td>\n",
       "    </tr>\n",
       "    <tr>\n",
       "      <th>11</th>\n",
       "      <td>29/3/2025,</td>\n",
       "      <td>1:49pm</td>\n",
       "      <td>-</td>\n",
       "      <td>Lleny</td>\n",
       "      <td>Rodriguez:</td>\n",
       "      <td>IMG-20250329-WA0037.jpg</td>\n",
       "      <td>(archivo</td>\n",
       "      <td>adjunto)</td>\n",
       "    </tr>\n",
       "    <tr>\n",
       "      <th>12</th>\n",
       "      <td>29/3/2025,</td>\n",
       "      <td>1:49pm</td>\n",
       "      <td>-</td>\n",
       "      <td>Lleny</td>\n",
       "      <td>Rodriguez:</td>\n",
       "      <td>120</td>\n",
       "      <td>NULO</td>\n",
       "      <td>NULO</td>\n",
       "    </tr>\n",
       "    <tr>\n",
       "      <th>13</th>\n",
       "      <td>29/3/2025,</td>\n",
       "      <td>2:01pm</td>\n",
       "      <td>-</td>\n",
       "      <td>Lleny</td>\n",
       "      <td>Rodriguez:</td>\n",
       "      <td>IMG-20250329-WA0039.jpg</td>\n",
       "      <td>(archivo</td>\n",
       "      <td>adjunto)</td>\n",
       "    </tr>\n",
       "    <tr>\n",
       "      <th>14</th>\n",
       "      <td>110</td>\n",
       "      <td>6</td>\n",
       "      <td>NULO</td>\n",
       "      <td>NULO</td>\n",
       "      <td>NULO</td>\n",
       "      <td>NULO</td>\n",
       "      <td>NULO</td>\n",
       "      <td>NULO</td>\n",
       "    </tr>\n",
       "    <tr>\n",
       "      <th>15</th>\n",
       "      <td>29/3/2025,</td>\n",
       "      <td>2:11pm</td>\n",
       "      <td>-</td>\n",
       "      <td>Lleny</td>\n",
       "      <td>Rodriguez:</td>\n",
       "      <td>IMG-20250329-WA0041.jpg</td>\n",
       "      <td>(archivo</td>\n",
       "      <td>adjunto)</td>\n",
       "    </tr>\n",
       "    <tr>\n",
       "      <th>16</th>\n",
       "      <td>120</td>\n",
       "      <td>2</td>\n",
       "      <td>NULO</td>\n",
       "      <td>NULO</td>\n",
       "      <td>NULO</td>\n",
       "      <td>NULO</td>\n",
       "      <td>NULO</td>\n",
       "      <td>NULO</td>\n",
       "    </tr>\n",
       "    <tr>\n",
       "      <th>17</th>\n",
       "      <td>29/3/2025,</td>\n",
       "      <td>3:22pm</td>\n",
       "      <td>-</td>\n",
       "      <td>Lleny</td>\n",
       "      <td>Rodriguez:</td>\n",
       "      <td>IMG-20250329-WA0045.jpg</td>\n",
       "      <td>(archivo</td>\n",
       "      <td>adjunto)</td>\n",
       "    </tr>\n",
       "    <tr>\n",
       "      <th>18</th>\n",
       "      <td>$</td>\n",
       "      <td>120</td>\n",
       "      <td>2</td>\n",
       "      <td>NULO</td>\n",
       "      <td>NULO</td>\n",
       "      <td>NULO</td>\n",
       "      <td>NULO</td>\n",
       "      <td>NULO</td>\n",
       "    </tr>\n",
       "    <tr>\n",
       "      <th>19</th>\n",
       "      <td>29/3/2025,</td>\n",
       "      <td>4:05pm</td>\n",
       "      <td>-</td>\n",
       "      <td>Yoli:</td>\n",
       "      <td>IMG-20250329-WA0050.jpg</td>\n",
       "      <td>(archivo</td>\n",
       "      <td>adjunto)</td>\n",
       "      <td>NULO</td>\n",
       "    </tr>\n",
       "    <tr>\n",
       "      <th>20</th>\n",
       "      <td>110</td>\n",
       "      <td>-36</td>\n",
       "      <td>NULO</td>\n",
       "      <td>NULO</td>\n",
       "      <td>NULO</td>\n",
       "      <td>NULO</td>\n",
       "      <td>NULO</td>\n",
       "      <td>NULO</td>\n",
       "    </tr>\n",
       "  </tbody>\n",
       "</table>\n",
       "</div>"
      ],
      "text/plain": [
       "          col1     col2  col3   col4                     col5  \\\n",
       "0            $      350  NULO   NULO                     NULO   \n",
       "1   29/3/2025,  10:33am     -  Lleny               Rodriguez:   \n",
       "2   29/3/2025,  10:33am     -  Lleny               Rodriguez:   \n",
       "3   29/3/2025,  12:00pm     -  Lleny               Rodriguez:   \n",
       "4         2750     NULO  NULO   NULO                     NULO   \n",
       "5   29/3/2025,  12:06pm     -  Lleny               Rodriguez:   \n",
       "6            $      120  NULO   NULO                     NULO   \n",
       "7   29/3/2025,  1:00pm      -  Yoli:  IMG-20250329-WA0032.jpg   \n",
       "8          220     NULO  NULO   NULO                     NULO   \n",
       "9   29/3/2025,  1:14pm      -  Lleny               Rodriguez:   \n",
       "10         120        4  NULO   NULO                     NULO   \n",
       "11  29/3/2025,  1:49pm      -  Lleny               Rodriguez:   \n",
       "12  29/3/2025,  1:49pm      -  Lleny               Rodriguez:   \n",
       "13  29/3/2025,  2:01pm      -  Lleny               Rodriguez:   \n",
       "14         110        6  NULO   NULO                     NULO   \n",
       "15  29/3/2025,  2:11pm      -  Lleny               Rodriguez:   \n",
       "16         120        2  NULO   NULO                     NULO   \n",
       "17  29/3/2025,  3:22pm      -  Lleny               Rodriguez:   \n",
       "18           $      120     2   NULO                     NULO   \n",
       "19  29/3/2025,  4:05pm      -  Yoli:  IMG-20250329-WA0050.jpg   \n",
       "20         110      -36  NULO   NULO                     NULO   \n",
       "\n",
       "                       col6      col7      col8  \n",
       "0                      NULO      NULO      NULO  \n",
       "1   IMG-20250329-WA0004.jpg  (archivo  adjunto)  \n",
       "2                       120      NULO      NULO  \n",
       "3   IMG-20250329-WA0022.jpg  (archivo  adjunto)  \n",
       "4                      NULO      NULO      NULO  \n",
       "5   IMG-20250329-WA0024.jpg  (archivo  adjunto)  \n",
       "6                      NULO      NULO      NULO  \n",
       "7                  (archivo  adjunto)      NULO  \n",
       "8                      NULO      NULO      NULO  \n",
       "9   IMG-20250329-WA0035.jpg  (archivo  adjunto)  \n",
       "10                     NULO      NULO      NULO  \n",
       "11  IMG-20250329-WA0037.jpg  (archivo  adjunto)  \n",
       "12                      120      NULO      NULO  \n",
       "13  IMG-20250329-WA0039.jpg  (archivo  adjunto)  \n",
       "14                     NULO      NULO      NULO  \n",
       "15  IMG-20250329-WA0041.jpg  (archivo  adjunto)  \n",
       "16                     NULO      NULO      NULO  \n",
       "17  IMG-20250329-WA0045.jpg  (archivo  adjunto)  \n",
       "18                     NULO      NULO      NULO  \n",
       "19                 (archivo  adjunto)      NULO  \n",
       "20                     NULO      NULO      NULO  "
      ]
     },
     "execution_count": 36,
     "metadata": {},
     "output_type": "execute_result"
    }
   ],
   "source": [
    "df = pd.read_csv(\"datos04.txt\", sep=r'\\s+')\n",
    "df.columns = ['col1', 'col2', 'col3','col4','col5','col6','col7','col8' ]\n",
    "df"
   ]
  },
  {
   "cell_type": "code",
   "execution_count": 40,
   "id": "842526b3-3bd7-4d66-a83a-ce68c0ded8cf",
   "metadata": {},
   "outputs": [
    {
     "data": {
      "text/html": [
       "<div>\n",
       "<style scoped>\n",
       "    .dataframe tbody tr th:only-of-type {\n",
       "        vertical-align: middle;\n",
       "    }\n",
       "\n",
       "    .dataframe tbody tr th {\n",
       "        vertical-align: top;\n",
       "    }\n",
       "\n",
       "    .dataframe thead th {\n",
       "        text-align: right;\n",
       "    }\n",
       "</style>\n",
       "<table border=\"1\" class=\"dataframe\">\n",
       "  <thead>\n",
       "    <tr style=\"text-align: right;\">\n",
       "      <th></th>\n",
       "      <th>0</th>\n",
       "      <th>1</th>\n",
       "      <th>2</th>\n",
       "      <th>3</th>\n",
       "      <th>4</th>\n",
       "      <th>5</th>\n",
       "      <th>6</th>\n",
       "      <th>7</th>\n",
       "      <th>8</th>\n",
       "      <th>9</th>\n",
       "      <th>...</th>\n",
       "      <th>11</th>\n",
       "      <th>12</th>\n",
       "      <th>13</th>\n",
       "      <th>14</th>\n",
       "      <th>15</th>\n",
       "      <th>16</th>\n",
       "      <th>17</th>\n",
       "      <th>18</th>\n",
       "      <th>19</th>\n",
       "      <th>20</th>\n",
       "    </tr>\n",
       "  </thead>\n",
       "  <tbody>\n",
       "    <tr>\n",
       "      <th>col1</th>\n",
       "      <td>$</td>\n",
       "      <td>29/3/2025,</td>\n",
       "      <td>29/3/2025,</td>\n",
       "      <td>29/3/2025,</td>\n",
       "      <td>2750</td>\n",
       "      <td>29/3/2025,</td>\n",
       "      <td>$</td>\n",
       "      <td>29/3/2025,</td>\n",
       "      <td>220</td>\n",
       "      <td>29/3/2025,</td>\n",
       "      <td>...</td>\n",
       "      <td>29/3/2025,</td>\n",
       "      <td>29/3/2025,</td>\n",
       "      <td>29/3/2025,</td>\n",
       "      <td>110</td>\n",
       "      <td>29/3/2025,</td>\n",
       "      <td>120</td>\n",
       "      <td>29/3/2025,</td>\n",
       "      <td>$</td>\n",
       "      <td>29/3/2025,</td>\n",
       "      <td>110</td>\n",
       "    </tr>\n",
       "    <tr>\n",
       "      <th>col2</th>\n",
       "      <td>350</td>\n",
       "      <td>10:33am</td>\n",
       "      <td>10:33am</td>\n",
       "      <td>12:00pm</td>\n",
       "      <td>NULO</td>\n",
       "      <td>12:06pm</td>\n",
       "      <td>120</td>\n",
       "      <td>1:00pm</td>\n",
       "      <td>NULO</td>\n",
       "      <td>1:14pm</td>\n",
       "      <td>...</td>\n",
       "      <td>1:49pm</td>\n",
       "      <td>1:49pm</td>\n",
       "      <td>2:01pm</td>\n",
       "      <td>6</td>\n",
       "      <td>2:11pm</td>\n",
       "      <td>2</td>\n",
       "      <td>3:22pm</td>\n",
       "      <td>120</td>\n",
       "      <td>4:05pm</td>\n",
       "      <td>-36</td>\n",
       "    </tr>\n",
       "    <tr>\n",
       "      <th>col3</th>\n",
       "      <td>NULO</td>\n",
       "      <td>-</td>\n",
       "      <td>-</td>\n",
       "      <td>-</td>\n",
       "      <td>NULO</td>\n",
       "      <td>-</td>\n",
       "      <td>NULO</td>\n",
       "      <td>-</td>\n",
       "      <td>NULO</td>\n",
       "      <td>-</td>\n",
       "      <td>...</td>\n",
       "      <td>-</td>\n",
       "      <td>-</td>\n",
       "      <td>-</td>\n",
       "      <td>NULO</td>\n",
       "      <td>-</td>\n",
       "      <td>NULO</td>\n",
       "      <td>-</td>\n",
       "      <td>2</td>\n",
       "      <td>-</td>\n",
       "      <td>NULO</td>\n",
       "    </tr>\n",
       "    <tr>\n",
       "      <th>col4</th>\n",
       "      <td>NULO</td>\n",
       "      <td>Lleny</td>\n",
       "      <td>Lleny</td>\n",
       "      <td>Lleny</td>\n",
       "      <td>NULO</td>\n",
       "      <td>Lleny</td>\n",
       "      <td>NULO</td>\n",
       "      <td>Yoli:</td>\n",
       "      <td>NULO</td>\n",
       "      <td>Lleny</td>\n",
       "      <td>...</td>\n",
       "      <td>Lleny</td>\n",
       "      <td>Lleny</td>\n",
       "      <td>Lleny</td>\n",
       "      <td>NULO</td>\n",
       "      <td>Lleny</td>\n",
       "      <td>NULO</td>\n",
       "      <td>Lleny</td>\n",
       "      <td>NULO</td>\n",
       "      <td>Yoli:</td>\n",
       "      <td>NULO</td>\n",
       "    </tr>\n",
       "    <tr>\n",
       "      <th>col5</th>\n",
       "      <td>NULO</td>\n",
       "      <td>Rodriguez:</td>\n",
       "      <td>Rodriguez:</td>\n",
       "      <td>Rodriguez:</td>\n",
       "      <td>NULO</td>\n",
       "      <td>Rodriguez:</td>\n",
       "      <td>NULO</td>\n",
       "      <td>IMG-20250329-WA0032.jpg</td>\n",
       "      <td>NULO</td>\n",
       "      <td>Rodriguez:</td>\n",
       "      <td>...</td>\n",
       "      <td>Rodriguez:</td>\n",
       "      <td>Rodriguez:</td>\n",
       "      <td>Rodriguez:</td>\n",
       "      <td>NULO</td>\n",
       "      <td>Rodriguez:</td>\n",
       "      <td>NULO</td>\n",
       "      <td>Rodriguez:</td>\n",
       "      <td>NULO</td>\n",
       "      <td>IMG-20250329-WA0050.jpg</td>\n",
       "      <td>NULO</td>\n",
       "    </tr>\n",
       "    <tr>\n",
       "      <th>col6</th>\n",
       "      <td>NULO</td>\n",
       "      <td>IMG-20250329-WA0004.jpg</td>\n",
       "      <td>120</td>\n",
       "      <td>IMG-20250329-WA0022.jpg</td>\n",
       "      <td>NULO</td>\n",
       "      <td>IMG-20250329-WA0024.jpg</td>\n",
       "      <td>NULO</td>\n",
       "      <td>(archivo</td>\n",
       "      <td>NULO</td>\n",
       "      <td>IMG-20250329-WA0035.jpg</td>\n",
       "      <td>...</td>\n",
       "      <td>IMG-20250329-WA0037.jpg</td>\n",
       "      <td>120</td>\n",
       "      <td>IMG-20250329-WA0039.jpg</td>\n",
       "      <td>NULO</td>\n",
       "      <td>IMG-20250329-WA0041.jpg</td>\n",
       "      <td>NULO</td>\n",
       "      <td>IMG-20250329-WA0045.jpg</td>\n",
       "      <td>NULO</td>\n",
       "      <td>(archivo</td>\n",
       "      <td>NULO</td>\n",
       "    </tr>\n",
       "    <tr>\n",
       "      <th>col7</th>\n",
       "      <td>NULO</td>\n",
       "      <td>(archivo</td>\n",
       "      <td>NULO</td>\n",
       "      <td>(archivo</td>\n",
       "      <td>NULO</td>\n",
       "      <td>(archivo</td>\n",
       "      <td>NULO</td>\n",
       "      <td>adjunto)</td>\n",
       "      <td>NULO</td>\n",
       "      <td>(archivo</td>\n",
       "      <td>...</td>\n",
       "      <td>(archivo</td>\n",
       "      <td>NULO</td>\n",
       "      <td>(archivo</td>\n",
       "      <td>NULO</td>\n",
       "      <td>(archivo</td>\n",
       "      <td>NULO</td>\n",
       "      <td>(archivo</td>\n",
       "      <td>NULO</td>\n",
       "      <td>adjunto)</td>\n",
       "      <td>NULO</td>\n",
       "    </tr>\n",
       "    <tr>\n",
       "      <th>col8</th>\n",
       "      <td>NULO</td>\n",
       "      <td>adjunto)</td>\n",
       "      <td>NULO</td>\n",
       "      <td>adjunto)</td>\n",
       "      <td>NULO</td>\n",
       "      <td>adjunto)</td>\n",
       "      <td>NULO</td>\n",
       "      <td>NULO</td>\n",
       "      <td>NULO</td>\n",
       "      <td>adjunto)</td>\n",
       "      <td>...</td>\n",
       "      <td>adjunto)</td>\n",
       "      <td>NULO</td>\n",
       "      <td>adjunto)</td>\n",
       "      <td>NULO</td>\n",
       "      <td>adjunto)</td>\n",
       "      <td>NULO</td>\n",
       "      <td>adjunto)</td>\n",
       "      <td>NULO</td>\n",
       "      <td>NULO</td>\n",
       "      <td>NULO</td>\n",
       "    </tr>\n",
       "  </tbody>\n",
       "</table>\n",
       "<p>8 rows × 21 columns</p>\n",
       "</div>"
      ],
      "text/plain": [
       "        0                        1           2                        3   \\\n",
       "col1     $               29/3/2025,  29/3/2025,               29/3/2025,   \n",
       "col2   350                  10:33am     10:33am                  12:00pm   \n",
       "col3  NULO                        -           -                        -   \n",
       "col4  NULO                    Lleny       Lleny                    Lleny   \n",
       "col5  NULO               Rodriguez:  Rodriguez:               Rodriguez:   \n",
       "col6  NULO  IMG-20250329-WA0004.jpg         120  IMG-20250329-WA0022.jpg   \n",
       "col7  NULO                 (archivo        NULO                 (archivo   \n",
       "col8  NULO                 adjunto)        NULO                 adjunto)   \n",
       "\n",
       "        4                        5     6                        7     8   \\\n",
       "col1  2750               29/3/2025,     $               29/3/2025,   220   \n",
       "col2  NULO                  12:06pm   120                  1:00pm   NULO   \n",
       "col3  NULO                        -  NULO                        -  NULO   \n",
       "col4  NULO                    Lleny  NULO                    Yoli:  NULO   \n",
       "col5  NULO               Rodriguez:  NULO  IMG-20250329-WA0032.jpg  NULO   \n",
       "col6  NULO  IMG-20250329-WA0024.jpg  NULO                 (archivo  NULO   \n",
       "col7  NULO                 (archivo  NULO                 adjunto)  NULO   \n",
       "col8  NULO                 adjunto)  NULO                     NULO  NULO   \n",
       "\n",
       "                           9   ...                       11          12  \\\n",
       "col1               29/3/2025,  ...               29/3/2025,  29/3/2025,   \n",
       "col2                  1:14pm   ...                  1:49pm      1:49pm    \n",
       "col3                        -  ...                        -           -   \n",
       "col4                    Lleny  ...                    Lleny       Lleny   \n",
       "col5               Rodriguez:  ...               Rodriguez:  Rodriguez:   \n",
       "col6  IMG-20250329-WA0035.jpg  ...  IMG-20250329-WA0037.jpg         120   \n",
       "col7                 (archivo  ...                 (archivo        NULO   \n",
       "col8                 adjunto)  ...                 adjunto)        NULO   \n",
       "\n",
       "                           13    14                       15    16  \\\n",
       "col1               29/3/2025,   110               29/3/2025,   120   \n",
       "col2                  2:01pm      6                  2:11pm      2   \n",
       "col3                        -  NULO                        -  NULO   \n",
       "col4                    Lleny  NULO                    Lleny  NULO   \n",
       "col5               Rodriguez:  NULO               Rodriguez:  NULO   \n",
       "col6  IMG-20250329-WA0039.jpg  NULO  IMG-20250329-WA0041.jpg  NULO   \n",
       "col7                 (archivo  NULO                 (archivo  NULO   \n",
       "col8                 adjunto)  NULO                 adjunto)  NULO   \n",
       "\n",
       "                           17    18                       19    20  \n",
       "col1               29/3/2025,     $               29/3/2025,   110  \n",
       "col2                  3:22pm    120                  4:05pm    -36  \n",
       "col3                        -     2                        -  NULO  \n",
       "col4                    Lleny  NULO                    Yoli:  NULO  \n",
       "col5               Rodriguez:  NULO  IMG-20250329-WA0050.jpg  NULO  \n",
       "col6  IMG-20250329-WA0045.jpg  NULO                 (archivo  NULO  \n",
       "col7                 (archivo  NULO                 adjunto)  NULO  \n",
       "col8                 adjunto)  NULO                     NULO  NULO  \n",
       "\n",
       "[8 rows x 21 columns]"
      ]
     },
     "execution_count": 40,
     "metadata": {},
     "output_type": "execute_result"
    }
   ],
   "source": [
    "df_transpuesto = df.transpose()\n",
    "df_transpuesto"
   ]
  },
  {
   "cell_type": "code",
   "execution_count": 122,
   "id": "ee7c3dcd-6456-4384-b649-287826a28bfc",
   "metadata": {},
   "outputs": [
    {
     "name": "stdout",
     "output_type": "stream",
     "text": [
      "#36\n"
     ]
    }
   ],
   "source": [
    "print(df.iloc[20][\"col2\"])"
   ]
  },
  {
   "cell_type": "code",
   "execution_count": 16,
   "id": "6c647175-1904-4156-b0c6-4867bdb48e79",
   "metadata": {},
   "outputs": [
    {
     "name": "stdout",
     "output_type": "stream",
     "text": [
      "\n",
      "Rellenar valores nulos con un valor constante (0):\n",
      "          col1         col2  col3   col4                     col5  \\\n",
      "0            $          350  NULO   NULO                     NULO   \n",
      "1   29/3/2025,  10:33 a. m.     -  Lleny               Rodriguez:   \n",
      "2   29/3/2025,  10:33 a. m.     -  Lleny               Rodriguez:   \n",
      "3   29/3/2025,  12:00 p. m.     -  Lleny               Rodriguez:   \n",
      "4         2750         NULO  NULO   NULO                     NULO   \n",
      "5   29/3/2025,  12:06 p. m.     -  Lleny               Rodriguez:   \n",
      "6            $          120  NULO   NULO                     NULO   \n",
      "7   29/3/2025,   1:00 p. m.     -  Yoli:  IMG-20250329-WA0032.jpg   \n",
      "8          220         NULO  NULO   NULO                     NULO   \n",
      "9   29/3/2025,   1:14 p. m.     -  Lleny               Rodriguez:   \n",
      "10         120            4  NULO   NULO                     NULO   \n",
      "11  29/3/2025,   1:49 p. m.     -  Lleny               Rodriguez:   \n",
      "12  29/3/2025,   1:49 p. m.     -  Lleny               Rodriguez:   \n",
      "13  29/3/2025,   2:01 p. m.     -  Lleny               Rodriguez:   \n",
      "14         110            6  NULO   NULO                     NULO   \n",
      "15  29/3/2025,   2:11 p. m.     -  Lleny               Rodriguez:   \n",
      "16         120            2  NULO   NULO                     NULO   \n",
      "17  29/3/2025,   3:22 p. m.     -  Lleny               Rodriguez:   \n",
      "18           $          120     2   NULO                     NULO   \n",
      "19  29/3/2025,   4:05 p. m.     -  Yoli:  IMG-20250329-WA0050.jpg   \n",
      "20         110          #36  NULO   NULO                     NULO   \n",
      "\n",
      "                       col6      col7      col8  \n",
      "0                      NULO      NULO      NULO  \n",
      "1   IMG-20250329-WA0004.jpg  (archivo  adjunto)  \n",
      "2                       120      NULO      NULO  \n",
      "3   IMG-20250329-WA0022.jpg  (archivo  adjunto)  \n",
      "4                      NULO      NULO      NULO  \n",
      "5   IMG-20250329-WA0024.jpg  (archivo  adjunto)  \n",
      "6                      NULO      NULO      NULO  \n",
      "7                  (archivo  adjunto)      NULO  \n",
      "8                      NULO      NULO      NULO  \n",
      "9   IMG-20250329-WA0035.jpg  (archivo  adjunto)  \n",
      "10                     NULO      NULO      NULO  \n",
      "11  IMG-20250329-WA0037.jpg  (archivo  adjunto)  \n",
      "12                      120      NULO      NULO  \n",
      "13  IMG-20250329-WA0039.jpg  (archivo  adjunto)  \n",
      "14                     NULO      NULO      NULO  \n",
      "15  IMG-20250329-WA0041.jpg  (archivo  adjunto)  \n",
      "16                     NULO      NULO      NULO  \n",
      "17  IMG-20250329-WA0045.jpg  (archivo  adjunto)  \n",
      "18                     NULO      NULO      NULO  \n",
      "19                 (archivo  adjunto)      NULO  \n",
      "20                     NULO      NULO      NULO  \n"
     ]
    }
   ],
   "source": [
    "# Opción 1: Rellenar valores nulos con un valor constante\n",
    "df_filled_constant = df.fillna(\"NULO\")\n",
    "print(\"\\nRellenar valores nulos con un valor constante (0):\")\n",
    "print(df_filled_constant)"
   ]
  },
  {
   "cell_type": "code",
   "execution_count": 21,
   "id": "0ebc75c9-1aa7-4792-ab8b-6ca076f17f79",
   "metadata": {},
   "outputs": [
    {
     "name": "stdout",
     "output_type": "stream",
     "text": [
      "El DataFrame se ha exportado correctamente a 'datos03.txt'.\n"
     ]
    }
   ],
   "source": [
    "# Especificar el nombre del archivo de salida\n",
    "archivo_salida = 'datos03.txt'\n",
    "\n",
    "# Exportar el DataFrame a un archivo de texto con un separador personalizado (por ejemplo, tabulación)\n",
    "try:\n",
    "    df_filled_constant.to_csv(archivo_salida, sep=' ', index=False, encoding='utf-8')\n",
    "    print(f\"El DataFrame se ha exportado correctamente a '{archivo_salida}'.\")\n",
    "except Exception as e:\n",
    "    print(f\"Error al exportar el DataFrame: {e}\")"
   ]
  },
  {
   "cell_type": "code",
   "execution_count": null,
   "id": "4bbb5d48-e21e-4e3f-89bc-1be6c0002cbb",
   "metadata": {},
   "outputs": [],
   "source": []
  }
 ],
 "metadata": {
  "kernelspec": {
   "display_name": "Python 3 (ipykernel)",
   "language": "python",
   "name": "python3"
  },
  "language_info": {
   "codemirror_mode": {
    "name": "ipython",
    "version": 3
   },
   "file_extension": ".py",
   "mimetype": "text/x-python",
   "name": "python",
   "nbconvert_exporter": "python",
   "pygments_lexer": "ipython3",
   "version": "3.13.7"
  }
 },
 "nbformat": 4,
 "nbformat_minor": 5
}
